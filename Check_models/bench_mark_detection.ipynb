{
 "cells": [
  {
   "cell_type": "code",
   "execution_count": 1,
   "metadata": {},
   "outputs": [],
   "source": [
    "#load model\n",
    "from ultralytics import YOLO\n",
    "\n",
    "model = YOLO(r\"D:\\code\\demo_day\\license-plate-recognition\\models\\plate_detection.pt\", verbose=False)"
   ]
  },
  {
   "cell_type": "code",
   "execution_count": 2,
   "metadata": {},
   "outputs": [
    {
     "name": "stderr",
     "output_type": "stream",
     "text": [
      "  0%|          | 0/1019 [00:00<?, ?it/s]"
     ]
    },
    {
     "name": "stderr",
     "output_type": "stream",
     "text": [
      "100%|██████████| 1019/1019 [00:26<00:00, 38.61it/s]"
     ]
    },
    {
     "name": "stdout",
     "output_type": "stream",
     "text": [
      "IoU trung bình trên toàn bộ dữ liệu: 0.8476255686700721\n"
     ]
    },
    {
     "name": "stderr",
     "output_type": "stream",
     "text": [
      "\n"
     ]
    }
   ],
   "source": [
    "import os\n",
    "from tqdm import tqdm\n",
    "import cv2\n",
    "\n",
    "# Hàm chuyển đổi từ tọa độ tỉ lệ (x_center, y_center, width, height) sang tọa độ (x1, y1, x2, y2) theo pixel\n",
    "def convert_to_pixel_coordinates(label, img_width, img_height):\n",
    "    x_center, y_center, w, h = label[1:]  # Bỏ nhãn đầu tiên\n",
    "    x_center, y_center, w, h = x_center * img_width, y_center * img_height, w * img_width, h * img_height\n",
    "    x1 = int(x_center - w / 2)\n",
    "    y1 = int(y_center - h / 2)\n",
    "    x2 = int(x_center + w / 2)\n",
    "    y2 = int(y_center + h / 2)\n",
    "    return x1, y1, x2, y2\n",
    "\n",
    "# Hàm tính IoU giữa hai hộp giới hạn (bounding box)\n",
    "def calculate_iou(boxA, boxB):\n",
    "    # Tính tọa độ của vùng giao nhau (intersection)\n",
    "    xA = max(boxA[0], boxB[0])\n",
    "    yA = max(boxA[1], boxB[1])\n",
    "    xB = min(boxA[2], boxB[2])\n",
    "    yB = min(boxA[3], boxB[3])\n",
    "\n",
    "    # Tính diện tích của vùng giao nhau\n",
    "    interArea = max(0, xB - xA) * max(0, yB - yA)\n",
    "\n",
    "    # Tính diện tích của hai hộp giới hạn\n",
    "    boxAArea = (boxA[2] - boxA[0]) * (boxA[3] - boxA[1])\n",
    "    boxBArea = (boxB[2] - boxB[0]) * (boxB[3] - boxB[1])\n",
    "\n",
    "    # Tính diện tích của vùng hợp nhất (union)\n",
    "    iou = interArea / float(boxAArea + boxBArea - interArea) if (boxAArea + boxBArea - interArea) != 0 else 0\n",
    "    \n",
    "    return iou\n",
    "\n",
    "iou_threshold = 0.3  # IoU threshold (you can adjust this)\n",
    "conf_threshold = 0.5  # Confidence threshold (you can adjust this)\n",
    "\n",
    "folder_path = r\"D:\\code\\demo_day\\license-plate-recognition\\datasets\\License Plate Recognition.v4-resized640_aug3x-accurate.yolov8\\test\"\n",
    "image_paths = os.path.join(folder_path, \"images\")\n",
    "labels_paths = os.path.join(folder_path, \"labels\")\n",
    "\n",
    "total_iou = 0\n",
    "iou_count = 0\n",
    "\n",
    "for filename in tqdm(os.listdir(image_paths)):\n",
    "    image_path = os.path.join(image_paths, filename)\n",
    "    label_path = os.path.join(labels_paths, filename[:-3] + \"txt\")\n",
    "\n",
    "    # Đọc kích thước ảnh\n",
    "    img = cv2.imread(image_path)\n",
    "    img_height, img_width = img.shape[:2]\n",
    "\n",
    "    labels = []\n",
    "\n",
    "    # Đọc và chuyển đổi nhãn từ tọa độ tỉ lệ sang pixel\n",
    "    with open(label_path, 'r') as file:\n",
    "        for line in file:\n",
    "            values = list(map(float, line.split()))\n",
    "            pixel_box = convert_to_pixel_coordinates(values, img_width, img_height)\n",
    "            labels.append(pixel_box)\n",
    "    \n",
    "    # Dự đoán kết quả từ mô hình\n",
    "    results = model(image_path, verbose=False, conf=conf_threshold, iou=iou_threshold)\n",
    "    \n",
    "    for result in results:\n",
    "        boxes = result.boxes\n",
    "        for box in boxes:\n",
    "            # Lấy tọa độ hộp từ mô hình theo pixel\n",
    "            x1, y1, x2, y2 = map(int, box.xyxy[0])\n",
    "            detected_box = (x1, y1, x2, y2)\n",
    "\n",
    "            # Tính IoU giữa hộp dự đoán và nhãn\n",
    "            for label_box in labels:\n",
    "                iou = calculate_iou(detected_box, label_box)\n",
    "                if iou > 0.5:\n",
    "                    total_iou += iou\n",
    "                    iou_count += 1\n",
    "\n",
    "# Tính toán IoU trung bình\n",
    "if iou_count > 0:\n",
    "    average_iou = total_iou / iou_count\n",
    "else:\n",
    "    average_iou = 0\n",
    "\n",
    "print(f\"IoU trung bình trên toàn bộ dữ liệu: {average_iou}\")\n"
   ]
  },
  {
   "cell_type": "code",
   "execution_count": 3,
   "metadata": {},
   "outputs": [
    {
     "name": "stderr",
     "output_type": "stream",
     "text": [
      "100%|██████████| 24238/24238 [09:12<00:00, 43.88it/s]"
     ]
    },
    {
     "name": "stdout",
     "output_type": "stream",
     "text": [
      "IoU trung bình trên toàn bộ dữ liệu: 0.8724153379115345\n"
     ]
    },
    {
     "name": "stderr",
     "output_type": "stream",
     "text": [
      "\n"
     ]
    }
   ],
   "source": [
    "import os\n",
    "from tqdm import tqdm\n",
    "import cv2\n",
    "from concurrent.futures import ThreadPoolExecutor, as_completed\n",
    "\n",
    "folder_path = r\"D:\\code\\demo_day\\license-plate-recognition\\datasets\\License Plate Recognition.v4-resized640_aug3x-accurate.yolov8\\all\"\n",
    "\n",
    "# Hàm chuyển đổi từ tọa độ tỉ lệ (x_center, y_center, width, height) sang tọa độ (x1, y1, x2, y2) theo pixel\n",
    "def convert_to_pixel_coordinates(label, img_width, img_height):\n",
    "    x_center, y_center, w, h = label[1:]  # Bỏ nhãn đầu tiên\n",
    "    x_center, y_center, w, h = x_center * img_width, y_center * img_height, w * img_width, h * img_height\n",
    "    x1 = int(x_center - w / 2)\n",
    "    y1 = int(y_center - h / 2)\n",
    "    x2 = int(x_center + w / 2)\n",
    "    y2 = int(y_center + h / 2)\n",
    "    return x1, y1, x2, y2\n",
    "\n",
    "# Hàm tính IoU giữa hai hộp giới hạn (bounding box)\n",
    "def calculate_iou(boxA, boxB):\n",
    "    xA = max(boxA[0], boxB[0])\n",
    "    yA = max(boxA[1], boxB[1])\n",
    "    xB = min(boxA[2], boxB[2])\n",
    "    yB = min(boxA[3], boxB[3])\n",
    "\n",
    "    interArea = max(0, xB - xA) * max(0, yB - yA)\n",
    "    boxAArea = (boxA[2] - boxA[0]) * (boxA[3] - boxA[1])\n",
    "    boxBArea = (boxB[2] - boxB[0]) * (boxB[3] - boxB[1])\n",
    "\n",
    "    iou = interArea / float(boxAArea + boxBArea - interArea) if (boxAArea + boxBArea - interArea) != 0 else 0\n",
    "    return iou\n",
    "\n",
    "# Hàm xử lý mỗi ảnh và tính toán IoU\n",
    "def process_image(filename):\n",
    "    image_path = os.path.join(image_paths, filename)\n",
    "    label_path = os.path.join(labels_paths, filename[:-3] + \"txt\")\n",
    "\n",
    "    # Đọc kích thước ảnh\n",
    "    img = cv2.imread(image_path)\n",
    "    img_height, img_width = img.shape[:2]\n",
    "\n",
    "    labels = []\n",
    "    with open(label_path, 'r') as file:\n",
    "        for line in file:\n",
    "            values = list(map(float, line.split()))\n",
    "            pixel_box = convert_to_pixel_coordinates(values, img_width, img_height)\n",
    "            labels.append(pixel_box)\n",
    "\n",
    "    # Dự đoán kết quả từ mô hình\n",
    "    results = model(image_path, verbose=False, conf=conf_threshold, iou=iou_threshold)\n",
    "\n",
    "    local_total_iou = 0\n",
    "    local_iou_count = 0\n",
    "\n",
    "    for result in results:\n",
    "        boxes = result.boxes\n",
    "        for box in boxes:\n",
    "            x1, y1, x2, y2 = map(int, box.xyxy[0])\n",
    "            detected_box = (x1, y1, x2, y2)\n",
    "\n",
    "            for label_box in labels:\n",
    "                iou = calculate_iou(detected_box, label_box)\n",
    "                if iou > 0.5:\n",
    "                    local_total_iou += iou\n",
    "                    local_iou_count += 1\n",
    "\n",
    "    return local_total_iou, local_iou_count\n",
    "\n",
    "# Thiết lập các đường dẫn và ngưỡng\n",
    "iou_threshold = 0.3\n",
    "conf_threshold = 0.5\n",
    "image_paths = os.path.join(folder_path, \"images\")\n",
    "labels_paths = os.path.join(folder_path, \"labels\")\n",
    "\n",
    "# Khởi tạo tổng iou và bộ đếm\n",
    "total_iou = 0\n",
    "iou_count = 0\n",
    "\n",
    "# Sử dụng ThreadPoolExecutor để xử lý đa luồng\n",
    "with ThreadPoolExecutor(max_workers=8) as executor:\n",
    "    futures = [executor.submit(process_image, filename) for filename in os.listdir(image_paths)]\n",
    "\n",
    "    for future in tqdm(as_completed(futures), total=len(futures)):\n",
    "        local_total_iou, local_iou_count = future.result()\n",
    "        total_iou += local_total_iou\n",
    "        iou_count += local_iou_count\n",
    "\n",
    "# Tính toán IoU trung bình\n",
    "if iou_count > 0:\n",
    "    average_iou = total_iou / iou_count\n",
    "else:\n",
    "    average_iou = 0\n",
    "\n",
    "print(f\"IoU trung bình trên toàn bộ dữ liệu: {average_iou}\")"
   ]
  }
 ],
 "metadata": {
  "kernelspec": {
   "display_name": "Python 3",
   "language": "python",
   "name": "python3"
  },
  "language_info": {
   "codemirror_mode": {
    "name": "ipython",
    "version": 3
   },
   "file_extension": ".py",
   "mimetype": "text/x-python",
   "name": "python",
   "nbconvert_exporter": "python",
   "pygments_lexer": "ipython3",
   "version": "3.11.7"
  }
 },
 "nbformat": 4,
 "nbformat_minor": 2
}

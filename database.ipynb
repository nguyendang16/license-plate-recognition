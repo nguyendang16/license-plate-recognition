{
 "cells": [
  {
   "cell_type": "code",
   "execution_count": 2,
   "metadata": {},
   "outputs": [
    {
     "name": "stderr",
     "output_type": "stream",
     "text": [
      "/var/folders/hw/k882ck_90w9ck5vr8l9yhhd80000gn/T/ipykernel_54386/1341009849.py:12: MovedIn20Warning: The ``declarative_base()`` function is now available as sqlalchemy.orm.declarative_base(). (deprecated since: 2.0) (Background on SQLAlchemy 2.0 at: https://sqlalche.me/e/b8d9)\n",
      "  Base = declarative_base()\n"
     ]
    }
   ],
   "source": [
    "# database.py\n",
    "from sqlalchemy import create_engine, Column, Integer, String, DateTime\n",
    "from sqlalchemy.ext.declarative import declarative_base\n",
    "from sqlalchemy.orm import sessionmaker\n",
    "import datetime\n",
    "\n",
    "# Khởi tạo cơ sở dữ liệu SQLite\n",
    "DATABASE_URL = 'sqlite:///license_plates.db'\n",
    "\n",
    "engine = create_engine(DATABASE_URL, connect_args={\"check_same_thread\": False})\n",
    "SessionLocal = sessionmaker(autocommit=False, autoflush=False, bind=engine)\n",
    "Base = declarative_base()\n",
    "\n",
    "# Định nghĩa mô hình LicensePlate\n",
    "class LicensePlate(Base):\n",
    "    __tablename__ = 'license_plates'\n",
    "    \n",
    "    id = Column(Integer, primary_key=True, index=True)\n",
    "    plate_number = Column(String, index=True)\n",
    "    timestamp = Column(DateTime, default=datetime.datetime.utcnow)\n",
    "\n",
    "# Tạo các bảng trong cơ sở dữ liệu\n",
    "Base.metadata.create_all(bind=engine)\n"
   ]
  },
  {
   "cell_type": "code",
   "execution_count": 3,
   "metadata": {},
   "outputs": [
    {
     "name": "stdout",
     "output_type": "stream",
     "text": [
      "Đã xóa toàn bộ dữ liệu từ bảng LicensePlate.\n"
     ]
    }
   ],
   "source": [
    "\n",
    "db_session = SessionLocal()\n",
    "db_session.query(LicensePlate).delete()\n",
    "db_session.commit()\n",
    "db_session.close()\n",
    "\n",
    "print(\"Đã xóa toàn bộ dữ liệu từ bảng LicensePlate.\")\n"
   ]
  }
 ],
 "metadata": {
  "kernelspec": {
   "display_name": "base",
   "language": "python",
   "name": "python3"
  },
  "language_info": {
   "codemirror_mode": {
    "name": "ipython",
    "version": 3
   },
   "file_extension": ".py",
   "mimetype": "text/x-python",
   "name": "python",
   "nbconvert_exporter": "python",
   "pygments_lexer": "ipython3",
   "version": "3.11.7"
  }
 },
 "nbformat": 4,
 "nbformat_minor": 2
}
